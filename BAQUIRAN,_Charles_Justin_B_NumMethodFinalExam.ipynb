{
  "nbformat": 4,
  "nbformat_minor": 0,
  "metadata": {
    "colab": {
      "name": "BAQUIRAN, Charles Justin B NumMethodFinalExam.ipynb",
      "provenance": [],
      "authorship_tag": "ABX9TyMaToqUXHIEXc4OyEAzUYV7",
      "include_colab_link": true
    },
    "kernelspec": {
      "name": "python3",
      "display_name": "Python 3"
    },
    "language_info": {
      "name": "python"
    }
  },
  "cells": [
    {
      "cell_type": "markdown",
      "metadata": {
        "id": "view-in-github",
        "colab_type": "text"
      },
      "source": [
        "<a href=\"https://colab.research.google.com/github/BaquiranCharlesJustin/Numerical-Methods-58012/blob/main/BAQUIRAN%2C_Charles_Justin_B_NumMethodFinalExam.ipynb\" target=\"_parent\"><img src=\"https://colab.research.google.com/assets/colab-badge.svg\" alt=\"Open In Colab\"/></a>"
      ]
    },
    {
      "cell_type": "code",
      "execution_count": 6,
      "metadata": {
        "colab": {
          "base_uri": "https://localhost:8080/"
        },
        "id": "c4KdxmZY2nqV",
        "outputId": "b24d7a91-bbc2-4291-933b-a0791cf3b7cf"
      },
      "outputs": [
        {
          "output_type": "stream",
          "name": "stdout",
          "text": [
            "Integral = 0.1\n"
          ]
        }
      ],
      "source": [
        "from math import e\n",
        "def f(x): return e**x\n",
        "a = -1\n",
        "b = 1\n",
        "n = 10\n",
        "h = (b-a)/n\n",
        "S = h*(f(a)+f(b))\n",
        "for i in range(1,n):\n",
        "    S+= (a+i*h)\n",
        "Integral=h*S\n",
        "print('Integral = %.1f' %Integral)\n"
      ]
    }
  ]
}